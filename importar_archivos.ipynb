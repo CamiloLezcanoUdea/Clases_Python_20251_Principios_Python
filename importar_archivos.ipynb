{
  "nbformat": 4,
  "nbformat_minor": 0,
  "metadata": {
    "colab": {
      "provenance": [],
      "authorship_tag": "ABX9TyOEBlGeYXUezHfYoSBLp6p3",
      "include_colab_link": true
    },
    "kernelspec": {
      "name": "python3",
      "display_name": "Python 3"
    },
    "language_info": {
      "name": "python"
    }
  },
  "cells": [
    {
      "cell_type": "markdown",
      "metadata": {
        "id": "view-in-github",
        "colab_type": "text"
      },
      "source": [
        "<a href=\"https://colab.research.google.com/github/CamiloLezcanoUdea/Clases_Python_20251_Principios_Python/blob/master/importar_archivos.ipynb\" target=\"_parent\"><img src=\"https://colab.research.google.com/assets/colab-badge.svg\" alt=\"Open In Colab\"/></a>"
      ]
    },
    {
      "cell_type": "code",
      "execution_count": 1,
      "metadata": {
        "id": "vad1QpDX0ypE",
        "colab": {
          "base_uri": "https://localhost:8080/"
        },
        "outputId": "daa2b2c1-73f5-4807-d845-e20fbf4513d6"
      },
      "outputs": [
        {
          "output_type": "stream",
          "name": "stdout",
          "text": [
            "       atc                                    principioactivo  \\\n",
            "0  S01BC03                                 DICLOFENACO SODICO   \n",
            "1  S01BC03                                 DICLOFENACO SODICO   \n",
            "2  S01BC03                                 DICLOFENACO SODICO   \n",
            "3  S01BC03                                 DICLOFENACO SODICO   \n",
            "4  D08AC52  ALCOHOL ETILICO AL 92.44% EQUIVALENTE A ALCOHO...   \n",
            "\n",
            "               descripcionatc     producto  expediente  \\\n",
            "0                  DICLOFENAC  3- A OFTENO      230339   \n",
            "1                  DICLOFENAC  3- A OFTENO      230339   \n",
            "2                  DICLOFENAC  3- A OFTENO      230339   \n",
            "3                  DICLOFENAC  3- A OFTENO      230339   \n",
            "4  CLORHEXIDINA COMBINACIONES   3M AVAGARD    19948203   \n",
            "\n",
            "          registrosanitario fechavencimiento estadoregistro  \\\n",
            "0  INVIMA 2008 M-012122 R-1       01/01/3000        Vigente   \n",
            "1  INVIMA 2008 M-012122 R-1       01/01/3000        Vigente   \n",
            "2  INVIMA 2008 M-012122 R-1       01/01/3000        Vigente   \n",
            "3  INVIMA 2008 M-012122 R-1       01/01/3000        Vigente   \n",
            "4   INVIMA 2016M-0005076-R1              NaN        Vigente   \n",
            "\n",
            "                                descripcioncomercial unidad viaadministracion  \\\n",
            "0  CAJA DESIN DATOCARTÓN CONSIN DATOFRASCOSIN DAT...     ml       CONJUNTIVAL   \n",
            "1  CAJA DESIN DATOCARTÓN CONSIN DATOFRASCOSIN DAT...     ml       CONJUNTIVAL   \n",
            "2  MUESTRA MEDICA :CAJASIN DATOCONSIN DATOUN FRAS...     ml       CONJUNTIVAL   \n",
            "3  MUESTRA MEDICA :CAJASIN DATOCONSIN DATOUN FRAS...     ml       CONJUNTIVAL   \n",
            "4  BOTELLA DE POLIETILENO DE ALTA DENSIDAD DE 120...      U  TOPICA (EXTERNA)   \n",
            "\n",
            "  concentracion unidadmedida  cantidad unidadreferencia   formafarmaceutica  \\\n",
            "0             C           mg      1.00        MILILITRO  SOLUCION OFTALMICA   \n",
            "1             C           mg      1.00        MILILITRO  SOLUCION OFTALMICA   \n",
            "2             C           mg      1.00        MILILITRO  SOLUCION OFTALMICA   \n",
            "3             C           mg      1.00        MILILITRO  SOLUCION OFTALMICA   \n",
            "4             B            g     65.78            100 G     SOLUCION TOPICA   \n",
            "\n",
            "                               nombrerol  \n",
            "0       LABORATORIOS SOPHIA S.A. DE C.V.  \n",
            "1  LABORATORIOS SOPHIA DE COLOMBIA LTDA.  \n",
            "2  LABORATORIOS SOPHIA DE COLOMBIA LTDA.  \n",
            "3       LABORATORIOS SOPHIA S.A. DE C.V.  \n",
            "4                           ACCUPAC INC.  \n"
          ]
        }
      ],
      "source": [
        "import pandas as pd\n",
        "import numpy as np\n",
        "import matplotlib.pyplot as plt\n",
        "import seaborn as sns\n",
        "\n",
        "# Leer CSV directamente desde URL (si conexión lo permite)\n",
        "url_csv = \"https://www.datos.gov.co/api/views/a7iv-sme8/rows.csv?accessType=DOWNLOAD\"\n",
        "df_online = pd.read_csv(url_csv)\n",
        "print(df_online.head())"
      ]
    },
    {
      "cell_type": "code",
      "source": [
        "# Leer JSON desde la API JSON\n",
        "url_json = \"https://www.datos.gov.co/resource/a7iv-sme8.json\"\n",
        "df_json = pd.read_json(url_json)\n",
        "print(df_json.head())"
      ],
      "metadata": {
        "id": "9i5cmej_1CVp",
        "colab": {
          "base_uri": "https://localhost:8080/"
        },
        "outputId": "116ce1db-9b9f-440b-c0bd-969ce32b6a91"
      },
      "execution_count": 2,
      "outputs": [
        {
          "output_type": "stream",
          "name": "stdout",
          "text": [
            "       atc                                    principioactivo  \\\n",
            "0  S01BC03                                 DICLOFENACO SODICO   \n",
            "1  S01BC03                                 DICLOFENACO SODICO   \n",
            "2  S01BC03                                 DICLOFENACO SODICO   \n",
            "3  S01BC03                                 DICLOFENACO SODICO   \n",
            "4  D08AC52  ALCOHOL ETILICO AL 92.44% EQUIVALENTE A ALCOHO...   \n",
            "\n",
            "               descripcionatc     producto  expediente  \\\n",
            "0                  DICLOFENAC  3- A OFTENO      230339   \n",
            "1                  DICLOFENAC  3- A OFTENO      230339   \n",
            "2                  DICLOFENAC  3- A OFTENO      230339   \n",
            "3                  DICLOFENAC  3- A OFTENO      230339   \n",
            "4  CLORHEXIDINA COMBINACIONES   3M AVAGARD    19948203   \n",
            "\n",
            "          registrosanitario fechavencimiento estadoregistro  \\\n",
            "0  INVIMA 2008 M-012122 R-1       01/01/3000        Vigente   \n",
            "1  INVIMA 2008 M-012122 R-1       01/01/3000        Vigente   \n",
            "2  INVIMA 2008 M-012122 R-1       01/01/3000        Vigente   \n",
            "3  INVIMA 2008 M-012122 R-1       01/01/3000        Vigente   \n",
            "4   INVIMA 2016M-0005076-R1              NaN        Vigente   \n",
            "\n",
            "                                descripcioncomercial unidad viaadministracion  \\\n",
            "0  CAJA DESIN DATOCARTÓN CONSIN DATOFRASCOSIN DAT...     ml       CONJUNTIVAL   \n",
            "1  CAJA DESIN DATOCARTÓN CONSIN DATOFRASCOSIN DAT...     ml       CONJUNTIVAL   \n",
            "2  MUESTRA MEDICA :CAJASIN DATOCONSIN DATOUN FRAS...     ml       CONJUNTIVAL   \n",
            "3  MUESTRA MEDICA :CAJASIN DATOCONSIN DATOUN FRAS...     ml       CONJUNTIVAL   \n",
            "4  BOTELLA DE POLIETILENO DE ALTA DENSIDAD DE 120...      U  TOPICA (EXTERNA)   \n",
            "\n",
            "  concentracion unidadmedida  cantidad unidadreferencia   formafarmaceutica  \\\n",
            "0             C           mg      1.00        MILILITRO  SOLUCION OFTALMICA   \n",
            "1             C           mg      1.00        MILILITRO  SOLUCION OFTALMICA   \n",
            "2             C           mg      1.00        MILILITRO  SOLUCION OFTALMICA   \n",
            "3             C           mg      1.00        MILILITRO  SOLUCION OFTALMICA   \n",
            "4             B            g     65.78            100 G     SOLUCION TOPICA   \n",
            "\n",
            "                               nombrerol  \n",
            "0       LABORATORIOS SOPHIA S.A. DE C.V.  \n",
            "1  LABORATORIOS SOPHIA DE COLOMBIA LTDA.  \n",
            "2  LABORATORIOS SOPHIA DE COLOMBIA LTDA.  \n",
            "3       LABORATORIOS SOPHIA S.A. DE C.V.  \n",
            "4                           ACCUPAC INC.  \n"
          ]
        }
      ]
    }
  ]
}