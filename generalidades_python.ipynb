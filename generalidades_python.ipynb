{
  "nbformat": 4,
  "nbformat_minor": 0,
  "metadata": {
    "colab": {
      "provenance": [],
      "authorship_tag": "ABX9TyPxn0NAGFhvFz7oykMGIKXZ",
      "include_colab_link": true
    },
    "kernelspec": {
      "name": "python3",
      "display_name": "Python 3"
    },
    "language_info": {
      "name": "python"
    }
  },
  "cells": [
    {
      "cell_type": "markdown",
      "metadata": {
        "id": "view-in-github",
        "colab_type": "text"
      },
      "source": [
        "<a href=\"https://colab.research.google.com/github/CamiloLezcanoUdea/Clases_Python_20251_Principios_Python/blob/master/generalidades_python.ipynb\" target=\"_parent\"><img src=\"https://colab.research.google.com/assets/colab-badge.svg\" alt=\"Open In Colab\"/></a>"
      ]
    },
    {
      "cell_type": "code",
      "execution_count": 1,
      "metadata": {
        "colab": {
          "base_uri": "https://localhost:8080/",
          "height": 36
        },
        "id": "3pdiztBmu9_q",
        "outputId": "d84c49b1-ae74-4115-cd1a-c54e8e7af50c"
      },
      "outputs": [
        {
          "output_type": "execute_result",
          "data": {
            "text/plain": [
              "'\\na\\nb\\nc\\nd\\ne\\nf\\ng\\nh\\ni\\nj\\n'"
            ],
            "application/vnd.google.colaboratory.intrinsic+json": {
              "type": "string"
            }
          },
          "metadata": {},
          "execution_count": 1
        }
      ],
      "source": [
        "# 1. comentarios\n",
        "\"\"\"\n",
        "a\n",
        "b\n",
        "c\n",
        "d\n",
        "e\n",
        "f\n",
        "g\n",
        "h\n",
        "i\n",
        "j\n",
        "\"\"\""
      ]
    },
    {
      "cell_type": "code",
      "source": [
        "# 2. Ingresar datos\n",
        "nombre = input(\"Ingrese su nombre: \")"
      ],
      "metadata": {
        "colab": {
          "base_uri": "https://localhost:8080/"
        },
        "id": "aPLOnE__wcyK",
        "outputId": "d19f8fbd-2584-4c71-c9e9-5cc468652c26"
      },
      "execution_count": 4,
      "outputs": [
        {
          "name": "stdout",
          "output_type": "stream",
          "text": [
            "Ingrese su nombre: Camilo\n"
          ]
        }
      ]
    },
    {
      "cell_type": "code",
      "source": [
        "# 3. conversión de tipos\n",
        "num = \"123456\"\n",
        "sum = int(num) + 10\n",
        "print(sum)\n",
        "print(num)"
      ],
      "metadata": {
        "colab": {
          "base_uri": "https://localhost:8080/"
        },
        "id": "onQBrtHYxw_5",
        "outputId": "3f14a599-85a3-4bcb-c2df-a061482777ce"
      },
      "execution_count": 11,
      "outputs": [
        {
          "output_type": "stream",
          "name": "stdout",
          "text": [
            "123466\n",
            "123456\n"
          ]
        }
      ]
    },
    {
      "cell_type": "code",
      "source": [
        "# 4. operadores de comparación\n",
        "print(10 > 9)\n",
        "print(10 == 9)\n",
        "print(10 < 9)\n",
        "print(10 != 9)\n",
        "print(10 >= 10)\n",
        "print(10 <= 9)"
      ],
      "metadata": {
        "colab": {
          "base_uri": "https://localhost:8080/"
        },
        "id": "IuETsK0vzXSV",
        "outputId": "528e7802-061a-4939-9c6a-74f6edb6fefd"
      },
      "execution_count": 16,
      "outputs": [
        {
          "output_type": "stream",
          "name": "stdout",
          "text": [
            "True\n",
            "False\n",
            "False\n",
            "True\n",
            "True\n",
            "False\n"
          ]
        }
      ]
    },
    {
      "cell_type": "code",
      "source": [
        "# 5. operadores lógicos\n",
        "\n",
        "print((10 > 9) and (10 == 1))\n",
        "print((10 > 9) or (10 == 1))\n",
        "print(not (10 > 9))"
      ],
      "metadata": {
        "colab": {
          "base_uri": "https://localhost:8080/"
        },
        "id": "7qeUsecA0GBW",
        "outputId": "b0dc5f90-cf0a-4bc1-80a0-72ff0e003d19"
      },
      "execution_count": 20,
      "outputs": [
        {
          "output_type": "stream",
          "name": "stdout",
          "text": [
            "False\n",
            "True\n",
            "False\n"
          ]
        }
      ]
    },
    {
      "cell_type": "code",
      "source": [
        "# 6. listas\n",
        "# Indice =  [0,1,2,3,4,5,6,7,8,9]\n",
        "# Arreglo = [1,2,3,4,5,6,6,5,4,3]\n",
        "# conjuntos = [1,2,3,4,5,6,6,6,6,6] = [1,2,3,4,5,6]\n",
        "\n",
        "frutas = [\"manzana\", \"banana\", \"cereza\"]\n",
        "print(frutas[0])\n",
        "print(frutas[1])\n",
        "print(frutas[2])\n",
        "frutas.append(\"durazno\")\n",
        "print(frutas)\n",
        "frutas.remove(\"banana\")\n",
        "print(frutas)\n",
        "frutas.pop(0)\n",
        "print(frutas)"
      ],
      "metadata": {
        "colab": {
          "base_uri": "https://localhost:8080/"
        },
        "id": "KL2EvXPb1GyB",
        "outputId": "c0270ab4-6234-456a-d2d9-e213630cadf8"
      },
      "execution_count": 24,
      "outputs": [
        {
          "output_type": "stream",
          "name": "stdout",
          "text": [
            "manzana\n",
            "banana\n",
            "cereza\n",
            "['manzana', 'banana', 'cereza', 'durazno']\n",
            "['manzana', 'cereza', 'durazno']\n",
            "['cereza', 'durazno']\n"
          ]
        }
      ]
    },
    {
      "cell_type": "code",
      "source": [
        "# 7. tuplas\n",
        "\n",
        "coordenadas = (10, \"20\")\n",
        "print(coordenadas)"
      ],
      "metadata": {
        "colab": {
          "base_uri": "https://localhost:8080/"
        },
        "id": "Wlz7N_0g3IUo",
        "outputId": "a55c72ba-31b2-418d-8245-669ee380b01d"
      },
      "execution_count": 26,
      "outputs": [
        {
          "output_type": "stream",
          "name": "stdout",
          "text": [
            "(10, '20')\n"
          ]
        }
      ]
    },
    {
      "cell_type": "code",
      "source": [
        "# 8. diccionarios\n",
        "\n",
        "persona = {\"nombre\": \"Juan\", \"edad\": 25, \"ciudad\": \"Madrid\"}\n",
        "print(persona[\"nombre\"])\n",
        "print(persona[\"edad\"])\n",
        "print(persona[\"ciudad\"])"
      ],
      "metadata": {
        "colab": {
          "base_uri": "https://localhost:8080/"
        },
        "id": "J7qLo2gb3Yla",
        "outputId": "c342d906-2333-4911-d549-1e3861fcdbc8"
      },
      "execution_count": 27,
      "outputs": [
        {
          "output_type": "stream",
          "name": "stdout",
          "text": [
            "Juan\n",
            "25\n",
            "Madrid\n"
          ]
        }
      ]
    }
  ]
}