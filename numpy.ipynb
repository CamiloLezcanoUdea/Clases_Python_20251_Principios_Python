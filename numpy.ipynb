{
  "nbformat": 4,
  "nbformat_minor": 0,
  "metadata": {
    "colab": {
      "provenance": [],
      "authorship_tag": "ABX9TyO3LpLbUr4bjnYMJk/L4RJd",
      "include_colab_link": true
    },
    "kernelspec": {
      "name": "python3",
      "display_name": "Python 3"
    },
    "language_info": {
      "name": "python"
    }
  },
  "cells": [
    {
      "cell_type": "markdown",
      "metadata": {
        "id": "view-in-github",
        "colab_type": "text"
      },
      "source": [
        "<a href=\"https://colab.research.google.com/github/CamiloLezcanoUdea/Clases_Python_20251_Principios_Python/blob/master/numpy.ipynb\" target=\"_parent\"><img src=\"https://colab.research.google.com/assets/colab-badge.svg\" alt=\"Open In Colab\"/></a>"
      ]
    },
    {
      "cell_type": "code",
      "execution_count": null,
      "metadata": {
        "id": "A2A_Brenxeq3"
      },
      "outputs": [],
      "source": [
        "import numpy as np\n",
        "\n",
        "# 1. Crear un array\n",
        "a = np.array([1, 2, 3])"
      ]
    },
    {
      "cell_type": "code",
      "source": [
        "# 2. Array de ceros\n",
        "b = np.zeros((2, 3))"
      ],
      "metadata": {
        "id": "ds3w342yxjHz"
      },
      "execution_count": null,
      "outputs": []
    },
    {
      "cell_type": "code",
      "source": [
        "# 3. Array de unos\n",
        "c = np.ones((3, 3))"
      ],
      "metadata": {
        "id": "COae-UM4xlJc"
      },
      "execution_count": null,
      "outputs": []
    },
    {
      "cell_type": "code",
      "source": [
        "# 4. Array con valores aleatorios\n",
        "d = np.random.rand(2, 2)\n"
      ],
      "metadata": {
        "id": "DQK9XkoGxmr9"
      },
      "execution_count": null,
      "outputs": []
    },
    {
      "cell_type": "code",
      "source": [
        "# 5. Array con un rango de números\n",
        "e = np.arange(0, 10, 2)\n"
      ],
      "metadata": {
        "id": "CiojZUrGxoP9"
      },
      "execution_count": null,
      "outputs": []
    },
    {
      "cell_type": "code",
      "source": [
        "# 6. Array con valores espaciados\n",
        "f = np.linspace(0, 1, 5)"
      ],
      "metadata": {
        "id": "Lnm3RcQOxqBR"
      },
      "execution_count": null,
      "outputs": []
    },
    {
      "cell_type": "code",
      "source": [
        "# 7. Matriz identidad\n",
        "g = np.eye(4)"
      ],
      "metadata": {
        "id": "x8CpP0B5xrtY"
      },
      "execution_count": null,
      "outputs": []
    },
    {
      "cell_type": "code",
      "source": [
        "# 8. Cambiar forma\n",
        "h = np.arange(12).reshape(3, 4)\n"
      ],
      "metadata": {
        "id": "R8LuhIAmxusH"
      },
      "execution_count": null,
      "outputs": []
    },
    {
      "cell_type": "code",
      "source": [
        "# 9. Indexado y slicing\n",
        "i = h[1:, 2:]"
      ],
      "metadata": {
        "id": "hXJmruf5xyyy"
      },
      "execution_count": null,
      "outputs": []
    },
    {
      "cell_type": "code",
      "source": [
        "# 10. Operaciones elementales\n",
        "j = np.array([1, 2, 3]) + np.array([4, 5, 6])"
      ],
      "metadata": {
        "id": "Sme0iahVx01h"
      },
      "execution_count": null,
      "outputs": []
    },
    {
      "cell_type": "code",
      "source": [
        "# 11. Suma en ejes\n",
        "k = h.sum(axis=0)"
      ],
      "metadata": {
        "id": "BlD2cu3ox3vN"
      },
      "execution_count": null,
      "outputs": []
    },
    {
      "cell_type": "code",
      "source": [
        "# 12. Media y desviación estándar\n",
        "mean = h.mean()\n",
        "std = h.std()"
      ],
      "metadata": {
        "id": "mpGXjXKix6Lp"
      },
      "execution_count": null,
      "outputs": []
    },
    {
      "cell_type": "code",
      "source": [
        "# 13. Transpuesta\n",
        "trans = h.T"
      ],
      "metadata": {
        "id": "p0KQ2bIsx74s"
      },
      "execution_count": null,
      "outputs": []
    },
    {
      "cell_type": "code",
      "source": [
        "# 14. Producto matricial\n",
        "l = np.dot(np.array([[1,2]]), np.array([[3],[4]]))"
      ],
      "metadata": {
        "id": "PSuPLVAYx-hD"
      },
      "execution_count": null,
      "outputs": []
    },
    {
      "cell_type": "code",
      "source": [
        "# 15. Comparación lógica\n",
        "m = np.array([1, 2, 3, 4])\n",
        "mask = m > 2"
      ],
      "metadata": {
        "id": "OkrY4ljhx_-E"
      },
      "execution_count": null,
      "outputs": []
    },
    {
      "cell_type": "code",
      "source": [
        "# 16. Reemplazo condicional\n",
        "m[m > 2] = 0"
      ],
      "metadata": {
        "id": "zaUQAUZUyBLO"
      },
      "execution_count": null,
      "outputs": []
    },
    {
      "cell_type": "code",
      "source": [
        "# 17. Flatten\n",
        "flat = h.flatten()"
      ],
      "metadata": {
        "id": "22Un9uBgyCmy"
      },
      "execution_count": null,
      "outputs": []
    },
    {
      "cell_type": "code",
      "source": [
        "# 18. Concatenación de arrays\n",
        "n1 = np.array([[1, 2]])\n",
        "n2 = np.array([[3, 4]])\n",
        "concat = np.concatenate((n1, n2), axis=0)"
      ],
      "metadata": {
        "id": "PV6R1r7hyEbg"
      },
      "execution_count": null,
      "outputs": []
    },
    {
      "cell_type": "code",
      "source": [
        "# 19. Copia vs vista\n",
        "o = np.arange(10)\n",
        "p = o[:5]\n",
        "p[0] = 100\n"
      ],
      "metadata": {
        "id": "nf3qPI9ryGkI"
      },
      "execution_count": null,
      "outputs": []
    },
    {
      "cell_type": "code",
      "source": [
        "# 20. Broadcasting\n",
        "q = np.array([[1], [2], [3]])\n",
        "r = np.array([10, 20, 30])\n",
        "broadcasted = q + r"
      ],
      "metadata": {
        "id": "Nng8rWrdyJtl"
      },
      "execution_count": null,
      "outputs": []
    }
  ]
}