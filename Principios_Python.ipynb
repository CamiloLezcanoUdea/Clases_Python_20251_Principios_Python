{
  "nbformat": 4,
  "nbformat_minor": 0,
  "metadata": {
    "colab": {
      "provenance": [],
      "authorship_tag": "ABX9TyO0meCyFC1ENmt/n9sb9uwk",
      "include_colab_link": true
    },
    "kernelspec": {
      "name": "python3",
      "display_name": "Python 3"
    },
    "language_info": {
      "name": "python"
    }
  },
  "cells": [
    {
      "cell_type": "markdown",
      "metadata": {
        "id": "view-in-github",
        "colab_type": "text"
      },
      "source": [
        "<a href=\"https://colab.research.google.com/github/CamiloLezcanoUdea/Clases_Python_20251_Principios_Python/blob/master/Principios_Python.ipynb\" target=\"_parent\"><img src=\"https://colab.research.google.com/assets/colab-badge.svg\" alt=\"Open In Colab\"/></a>"
      ]
    },
    {
      "cell_type": "code",
      "execution_count": 10,
      "metadata": {
        "colab": {
          "base_uri": "https://localhost:8080/"
        },
        "id": "eQXZZh9G2In1",
        "outputId": "f1504d58-2f66-42ed-ae9c-802fd0bf1fbc"
      },
      "outputs": [
        {
          "output_type": "stream",
          "name": "stdout",
          "text": [
            "Elizabeth 30 100.5 True\n",
            "30\n",
            "Es Adolescente\n",
            "Repeticion numero 0\n",
            "Repeticion numero 1\n",
            "Repeticion numero 2\n",
            "Repeticion numero 3\n",
            "Repeticion numero 4\n",
            "Repeticion numero 5\n",
            "Repeticion numero 6\n",
            "Repeticion numero 7\n",
            "contador 0\n",
            "contador 1\n",
            "contador 2\n",
            "contador 3\n",
            "contador 4\n",
            "contador 5\n",
            "contador 6\n",
            "contador 7\n",
            "contador 8\n",
            "contador 9\n"
          ]
        }
      ],
      "source": [
        "# Tipos de datos\n",
        "name: str = \"Elizabeth\" #String cadena de caracteres\n",
        "age: int = 30  #Int enteros\n",
        "heigth: float = 100.5 #Double o Float Numeros reales (decimales)\n",
        "is_enable: bool = True #Bool falso o verdadero\n",
        "\n",
        "# imprimir en consola\n",
        "print(name, age, heigth, is_enable)\n",
        "\n",
        "# Declarar funciones\n",
        "def sum(a, b):\n",
        "  return a + b\n",
        "\n",
        "print(sum(10, 20))\n",
        "\n",
        "\n",
        "# Condicionales\n",
        "age2: int = 13\n",
        "if age2 >= 18:\n",
        "  print(\"Es mayor de edad\")\n",
        "elif age2 >= 13:\n",
        "  print(\"Es Adolescente\")\n",
        "else:\n",
        "  print(\"Es menor de edad\")\n",
        "\n",
        "# Ciclos(for, while)\n",
        "for i in range(8):\n",
        "  print(\"Repeticion numero\", i)\n",
        "\n",
        "contador = 0\n",
        "while contador < 10:\n",
        "  print(\"contador\", contador)\n",
        "  contador += 1\n"
      ]
    }
  ]
}