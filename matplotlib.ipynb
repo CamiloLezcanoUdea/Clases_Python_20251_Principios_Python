{
  "nbformat": 4,
  "nbformat_minor": 0,
  "metadata": {
    "colab": {
      "provenance": [],
      "authorship_tag": "ABX9TyMMeDrIM3xmRg2mgC+HOySq",
      "include_colab_link": true
    },
    "kernelspec": {
      "name": "python3",
      "display_name": "Python 3"
    },
    "language_info": {
      "name": "python"
    }
  },
  "cells": [
    {
      "cell_type": "markdown",
      "metadata": {
        "id": "view-in-github",
        "colab_type": "text"
      },
      "source": [
        "<a href=\"https://colab.research.google.com/github/CamiloLezcanoUdea/Clases_Python_20251_Principios_Python/blob/master/matplotlib.ipynb\" target=\"_parent\"><img src=\"https://colab.research.google.com/assets/colab-badge.svg\" alt=\"Open In Colab\"/></a>"
      ]
    },
    {
      "cell_type": "code",
      "execution_count": 1,
      "metadata": {
        "id": "ChULZp7vyOYI",
        "colab": {
          "base_uri": "https://localhost:8080/",
          "height": 453
        },
        "outputId": "d4664acf-c402-4767-ef06-84c5996db37c"
      },
      "outputs": [
        {
          "output_type": "display_data",
          "data": {
            "text/plain": [
              "<Figure size 640x480 with 1 Axes>"
            ],
            "image/png": "[encoded data removed]"
          },
          "metadata": {}
        }
      ],
      "source": [
        "import matplotlib.pyplot as plt\n",
        "\n",
        "# 1. Línea simple\n",
        "plt.plot([1, 2, 3], [4, 5, 6])\n",
        "plt.title(\"Línea simple\")\n",
        "plt.show()"
      ]
    },
    {
      "cell_type": "code",
      "source": [
        "# 2. Estilos de línea\n",
        "plt.plot([1, 2, 3], [4, 5, 6], 'r--')\n",
        "plt.title(\"Línea punteada roja\")\n",
        "plt.show()"
      ],
      "metadata": {
        "id": "Z3U0efFgyTGx"
      },
      "execution_count": null,
      "outputs": []
    },
    {
      "cell_type": "code",
      "source": [
        "# 3. Etiquetas\n",
        "plt.plot([1, 2, 3], [4, 5, 6])\n",
        "plt.xlabel(\"Eje X\")\n",
        "plt.ylabel(\"Eje Y\")\n",
        "plt.title(\"Con etiquetas\")\n",
        "plt.show()\n"
      ],
      "metadata": {
        "id": "VqwN-K9IyUnT"
      },
      "execution_count": null,
      "outputs": []
    },
    {
      "cell_type": "code",
      "source": [
        "# 4. Varias líneas\n",
        "x = [1, 2, 3]\n",
        "plt.plot(x, [1, 4, 9], label=\"Cuadrado\")\n",
        "plt.plot(x, [1, 2, 3], label=\"Lineal\")\n",
        "plt.legend()\n",
        "plt.title(\"Dos líneas\")\n",
        "plt.show()"
      ],
      "metadata": {
        "id": "UVJkvN49yWXr"
      },
      "execution_count": null,
      "outputs": []
    },
    {
      "cell_type": "code",
      "source": [
        "# 5. Subplots\n",
        "fig, axs = plt.subplots(2)\n",
        "axs[0].plot([1, 2], [3, 4])\n",
        "axs[1].plot([1, 2], [4, 3])\n",
        "plt.suptitle(\"Subplots\")\n",
        "plt.show()"
      ],
      "metadata": {
        "id": "gHu5-b_TyYWt"
      },
      "execution_count": null,
      "outputs": []
    },
    {
      "cell_type": "code",
      "source": [
        "# 6. Barras\n",
        "plt.bar(['A', 'B', 'C'], [5, 7, 3])\n",
        "plt.title(\"Gráfico de barras\")\n",
        "plt.show()"
      ],
      "metadata": {
        "id": "BN8k78o9yahZ"
      },
      "execution_count": null,
      "outputs": []
    },
    {
      "cell_type": "code",
      "source": [
        "# 7. Barras horizontales\n",
        "plt.barh(['A', 'B', 'C'], [5, 7, 3])\n",
        "plt.title(\"Barras horizontales\")\n",
        "plt.show()"
      ],
      "metadata": {
        "id": "a5ysbQg_ycRe"
      },
      "execution_count": null,
      "outputs": []
    },
    {
      "cell_type": "code",
      "source": [
        "# 8. Histograma\n",
        "data = np.random.randn(1000)\n",
        "plt.hist(data, bins=30)\n",
        "plt.title(\"Histograma\")\n",
        "plt.show()"
      ],
      "metadata": {
        "id": "jEZ7gtZXyduH"
      },
      "execution_count": null,
      "outputs": []
    },
    {
      "cell_type": "code",
      "source": [
        "# 9. Gráfico de pastel\n",
        "plt.pie([40, 30, 30], labels=['A', 'B', 'C'], autopct='%1.1f%%')\n",
        "plt.title(\"Gráfico de pastel\")\n",
        "plt.show()\n"
      ],
      "metadata": {
        "id": "wZ_hRcwFyfIk"
      },
      "execution_count": null,
      "outputs": []
    },
    {
      "cell_type": "code",
      "source": [
        "# 10. Dispersión\n",
        "x = np.random.rand(50)\n",
        "y = np.random.rand(50)\n",
        "plt.scatter(x, y)\n",
        "plt.title(\"Dispersión\")\n",
        "plt.show()"
      ],
      "metadata": {
        "id": "NQXs565JyhOB"
      },
      "execution_count": null,
      "outputs": []
    },
    {
      "cell_type": "code",
      "source": [
        "# 11. Personalizar colores\n",
        "plt.plot([1, 2, 3], [4, 5, 6], color='purple')\n",
        "plt.show()"
      ],
      "metadata": {
        "id": "EMPlKLf2yirC"
      },
      "execution_count": null,
      "outputs": []
    },
    {
      "cell_type": "code",
      "source": [
        "# 12. Cambiar tamaño\n",
        "plt.figure(figsize=(8,4))\n",
        "plt.plot([1, 2, 3], [4, 5, 6])\n",
        "plt.title(\"Tamaño personalizado\")\n",
        "plt.show()\n"
      ],
      "metadata": {
        "id": "wTtkAqh-ykKt"
      },
      "execution_count": null,
      "outputs": []
    },
    {
      "cell_type": "code",
      "source": [
        "# 13. Guardar gráfico\n",
        "plt.plot([1,2,3], [4,5,6])\n",
        "plt.savefig(\"grafico.png\")\n",
        "plt.close()"
      ],
      "metadata": {
        "id": "zQjyzdsRymcL"
      },
      "execution_count": null,
      "outputs": []
    },
    {
      "cell_type": "code",
      "source": [
        "# 14. Límites de ejes\n",
        "plt.plot([1,2,3], [4,5,6])\n",
        "plt.xlim(0, 5)\n",
        "plt.ylim(0, 10)\n",
        "plt.title(\"Límites\")\n",
        "plt.show()\n"
      ],
      "metadata": {
        "id": "NGfBjbXYyntH"
      },
      "execution_count": null,
      "outputs": []
    },
    {
      "cell_type": "code",
      "source": [
        "# 15. Grilla\n",
        "plt.plot([1,2,3], [4,5,6])\n",
        "plt.grid(True)\n",
        "plt.title(\"Con grilla\")\n",
        "plt.show("
      ],
      "metadata": {
        "id": "gBVQYDcqyp6n"
      },
      "execution_count": null,
      "outputs": []
    },
    {
      "cell_type": "code",
      "source": [
        "# 16. Anotaciones\n",
        "plt.plot([1,2,3], [4,5,6])\n",
        "plt.annotate('punto clave', xy=(2, 5), xytext=(2, 6),\n",
        "             arrowprops=dict(facecolor='black', shrink=0.05))\n",
        "plt.show()"
      ],
      "metadata": {
        "id": "EMiA81QNys8g"
      },
      "execution_count": null,
      "outputs": []
    },
    {
      "cell_type": "code",
      "source": [
        "# 17. Gráfico de caja\n",
        "plt.boxplot(np.random.randn(100))\n",
        "plt.title(\"Boxplot\")\n",
        "plt.show()"
      ],
      "metadata": {
        "id": "6-Q1VbdIyuWH"
      },
      "execution_count": null,
      "outputs": []
    },
    {
      "cell_type": "code",
      "source": [
        "# 18. Área\n",
        "plt.fill_between([1,2,3], [1,4,9])\n",
        "plt.title(\"Gráfico de área\")\n",
        "plt.show()\n"
      ],
      "metadata": {
        "id": "_BRA9HR-yvJZ"
      },
      "execution_count": null,
      "outputs": []
    },
    {
      "cell_type": "code",
      "source": [
        "# 19. Color map\n",
        "plt.imshow(np.random.rand(10,10), cmap='hot')\n",
        "plt.colorbar()\n",
        "plt.title(\"Colormap\")\n",
        "plt.show()"
      ],
      "metadata": {
        "id": "dAGmqC3UywXL"
      },
      "execution_count": null,
      "outputs": []
    },
    {
      "cell_type": "code",
      "source": [
        "# 20. Multigráfico con `subplot`\n",
        "for i in range(4):\n",
        "    plt.subplot(2, 2, i+1)\n",
        "    plt.plot(np.random.rand(10))\n",
        "plt.suptitle(\"4 gráficos\")\n",
        "plt.tight_layout()\n",
        "plt.show()"
      ],
      "metadata": {
        "id": "nJ8T3nRfyzbx"
      },
      "execution_count": null,
      "outputs": []
    }
  ]
}