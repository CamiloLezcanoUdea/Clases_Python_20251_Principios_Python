{
  "cells": [
    {
      "cell_type": "markdown",
      "metadata": {
        "id": "view-in-github",
        "colab_type": "text"
      },
      "source": [
        "<a href=\"https://colab.research.google.com/github/CamiloLezcanoUdea/Clases_Python_20251_Principios_Python/blob/master/examen_visualizacion.ipynb\" target=\"_parent\"><img src=\"https://colab.research.google.com/assets/colab-badge.svg\" alt=\"Open In Colab\"/></a>"
      ]
    },
    {
      "cell_type": "markdown",
      "metadata": {
        "id": "J48xUFdwJXns"
      },
      "source": [
        "# 📄 Examen Parcial – Visualización de Datos con Python (Matplotlib & Seaborn)\n",
        "**Entrega:** 13 de agosto  \n",
        "**Lenguaje:** Python 3  \n",
        "**Bibliotecas permitidas:** `matplotlib`, `seaborn`, `pandas`, `numpy`\n",
        "\n",
        "---\n",
        "## Instrucciones Generales\n",
        "- Puedes consultar tus apuntes y ejemplos previos.\n",
        "- Todas las gráficas deben incluir título, etiquetas y una apariencia estética clara.\n",
        "---"
      ],
      "id": "J48xUFdwJXns"
    },
    {
      "cell_type": "markdown",
      "metadata": {
        "id": "A7vVgAocJXnt"
      },
      "source": [
        "### **Pregunta 1 – Gráfico de líneas simple**\n",
        "Crea un gráfico de líneas con **Matplotlib** que muestre la evolución de la temperatura media mensual de una ciudad durante un año.\n",
        "\n",
        "**Datos:**\n",
        "```python\n",
        "meses = [\"Ene\", \"Feb\", \"Mar\", \"Abr\", \"May\", \"Jun\", \"Jul\", \"Ago\", \"Sep\", \"Oct\", \"Nov\", \"Dic\"]\n",
        "temperaturas = [22, 24, 27, 30, 32, 35, 34, 33, 30, 27, 24, 22]\n",
        "```\n",
        "\n",
        "**Requisitos:**\n",
        "- Línea en color rojo con marcadores circulares.\n",
        "- Título: `\"Temperatura media mensual\"`.\n",
        "- Etiquetas en los ejes: `\"Mes\"` y `\"Temperatura (°C)\"`.\n",
        "- Grid activado."
      ],
      "id": "A7vVgAocJXnt"
    },
    {
      "cell_type": "code",
      "execution_count": null,
      "metadata": {
        "id": "RFFhkAJWJXnu"
      },
      "outputs": [],
      "source": [
        "# Solución Pregunta 1\n",
        "import matplotlib.pyplot as plt\n",
        "\n",
        "meses = [\"Ene\", \"Feb\", \"Mar\", \"Abr\", \"May\", \"Jun\", \"Jul\", \"Ago\", \"Sep\", \"Oct\", \"Nov\", \"Dic\"]\n",
        "temperaturas = [22, 24, 27, 30, 32, 35, 34, 33, 30, 27, 24, 22]\n",
        "\n",
        "# Tu código aquí"
      ],
      "id": "RFFhkAJWJXnu"
    },
    {
      "cell_type": "markdown",
      "metadata": {
        "id": "-Hz12znHJXnu"
      },
      "source": [
        "### **Pregunta 2 – Diagrama de dispersión con Seaborn**\n",
        "Utilizando **Seaborn**, crea un **scatter plot** que compare la **edad** y el **ingreso mensual** de 20 personas.\n",
        "\n",
        "**Requisitos:**\n",
        "- Los puntos deben estar diferenciados por el **género** usando el parámetro `hue`.\n",
        "- Agregar un título al gráfico.\n",
        "- Usar estilo `\"whitegrid\"` de Seaborn."
      ],
      "id": "-Hz12znHJXnu"
    },
    {
      "cell_type": "code",
      "execution_count": null,
      "metadata": {
        "id": "coY8qX5MJXnu"
      },
      "outputs": [],
      "source": [
        "# Solución Pregunta 2\n",
        "import seaborn as sns\n",
        "import pandas as pd\n",
        "import numpy as np\n",
        "\n",
        "# Datos sintéticos\n",
        "np.random.seed(0)\n",
        "df2 = pd.DataFrame({\n",
        "    'Edad': np.random.randint(18, 60, 20),\n",
        "    'Ingreso': np.random.randint(1000, 5000, 20),\n",
        "    'Genero': np.random.choice(['Masculino', 'Femenino'], 20)\n",
        "})\n",
        "\n",
        "# Tu código aquí"
      ],
      "id": "coY8qX5MJXnu"
    },
    {
      "cell_type": "markdown",
      "metadata": {
        "id": "EfEhwx0xJXnu"
      },
      "source": [
        "### **Pregunta 3 – Histograma de distribución**\n",
        "Genera con **Matplotlib** un histograma que muestre la distribución de 200 datos aleatorios siguiendo una **distribución normal** con media `50` y desviación estándar `10`.\n",
        "\n",
        "**Requisitos:**\n",
        "- Color azul con transparencia (`alpha=0.6`).\n",
        "- Mostrar 15 bins.\n",
        "- Título y etiquetas en los ejes."
      ],
      "id": "EfEhwx0xJXnu"
    },
    {
      "cell_type": "code",
      "execution_count": null,
      "metadata": {
        "id": "0IRjfrPGJXnu"
      },
      "outputs": [],
      "source": [
        "# Solución Pregunta 3\n",
        "datos = np.random.normal(50, 10, 200)\n",
        "\n",
        "# Tu código aquí"
      ],
      "id": "0IRjfrPGJXnu"
    },
    {
      "cell_type": "markdown",
      "metadata": {
        "id": "brwoVKImJXnu"
      },
      "source": [
        "### **Pregunta 4 – Boxplot comparativo**\n",
        "Usando **Seaborn**, genera un boxplot que compare las alturas de personas clasificadas en tres grupos: `\"Niños\"`, `\"Adultos\"` y `\"Adultos Mayores\"`.\n",
        "\n",
        "**Datos de ejemplo:**\n",
        "Generar datos sintéticos usando `numpy.random.normal` con medias y desviaciones diferentes para cada grupo.\n",
        "\n",
        "**Requisitos:**\n",
        "- Mostrar los outliers.\n",
        "- Cambiar el color de cada caja automáticamente.\n",
        "- Título: `\"Comparación de alturas por grupo\"`."
      ],
      "id": "brwoVKImJXnu"
    },
    {
      "cell_type": "code",
      "execution_count": null,
      "metadata": {
        "id": "g8s--jcyJXnu"
      },
      "outputs": [],
      "source": [
        "# Solución Pregunta 4\n",
        "df4 = pd.DataFrame({\n",
        "    'Altura': np.concatenate([\n",
        "        np.random.normal(1.3, 0.1, 30),\n",
        "        np.random.normal(1.7, 0.1, 30),\n",
        "        np.random.normal(1.65, 0.08, 30)\n",
        "    ]),\n",
        "    'Grupo': ['Niños']*30 + ['Adultos']*30 + ['Adultos Mayores']*30\n",
        "})\n",
        "\n",
        "# Tu código aquí"
      ],
      "id": "g8s--jcyJXnu"
    },
    {
      "cell_type": "markdown",
      "metadata": {
        "id": "G-H0BIyYJXnv"
      },
      "source": [
        "### **Pregunta 5 – Gráfico combinado con Matplotlib y Seaborn**\n",
        "Con un dataset sintético de ventas mensuales por región, crea un **gráfico combinado** que muestre:\n",
        "1. Un **gráfico de barras** (Seaborn) para las ventas totales por región.\n",
        "2. Encima, una **línea** (Matplotlib) que muestre el promedio móvil de ventas.\n",
        "\n",
        "**Datos sugeridos:**\n",
        "Generar un DataFrame con columnas: `Mes`, `Region`, `Ventas`.\n",
        "- 12 meses, 3 regiones (`Norte`, `Centro`, `Sur`), valores aleatorios entre 1000 y 5000.\n",
        "\n",
        "**Requisitos:**\n",
        "- Eje Y: Ventas.\n",
        "- Leyenda que indique `\"Ventas totales\"` y `\"Promedio móvil\"`.\n",
        "- Colores diferenciados para cada región.\n",
        "- Gráfico claro y estéticamente cuidado."
      ],
      "id": "G-H0BIyYJXnv"
    },
    {
      "cell_type": "code",
      "execution_count": null,
      "metadata": {
        "id": "OPS2yq3zJXnv"
      },
      "outputs": [],
      "source": [
        "# Solución Pregunta 5\n",
        "meses = list(range(1, 13))\n",
        "regiones = ['Norte', 'Centro', 'Sur']\n",
        "\n",
        "df5 = pd.DataFrame({\n",
        "    'Mes': np.tile(meses, len(regiones)),\n",
        "    'Region': np.repeat(regiones, len(meses)),\n",
        "    'Ventas': np.random.randint(1000, 5000, len(meses)*len(regiones))\n",
        "})\n",
        "\n",
        "# Tu código aquí"
      ],
      "id": "OPS2yq3zJXnv"
    }
  ],
  "metadata": {
    "kernelspec": {
      "display_name": "Python 3",
      "language": "python",
      "name": "python3"
    },
    "language_info": {
      "name": "python",
      "version": "3.x"
    },
    "colab": {
      "provenance": [],
      "include_colab_link": true
    }
  },
  "nbformat": 4,
  "nbformat_minor": 5
}